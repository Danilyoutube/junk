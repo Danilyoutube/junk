{
 "cells": [
  {
   "cell_type": "code",
   "execution_count": 57,
   "metadata": {},
   "outputs": [],
   "source": [
    "import zipfile\n",
    "import os\n",
    "\n",
    "if not os.path.exists('files'):\n",
    "  with zipfile.ZipFile('files.zip', 'r') as zip_ref:\n",
    "    zip_ref.extractall('files')\n",
    "\n",
    "  with open('files/.gitignore', 'w') as file:\n",
    "    file.write('*')"
   ]
  },
  {
   "cell_type": "code",
   "execution_count": 58,
   "metadata": {},
   "outputs": [],
   "source": [
    "import tensorflow as tf"
   ]
  },
  {
   "cell_type": "code",
   "execution_count": 59,
   "metadata": {},
   "outputs": [
    {
     "name": "stdout",
     "output_type": "stream",
     "text": [
      "files\\bird -> finished\n",
      "files\\lion -> finished\n",
      "files\\owl -> finished\n",
      "files\\parrot -> finished\n",
      "files\\raccoon -> finished\n",
      "files\\skull -> finished\n",
      "files\\snail -> finished\n",
      "files\\snake -> finished\n",
      "files\\squirrel -> finished\n",
      "files\\tiger -> finished\n"
     ]
    }
   ],
   "source": [
    "labels = ['bird', 'lion', 'owl', 'parrot', 'raccoon', 'skull', 'snail', 'snake', 'squirrel', 'tiger']\n",
    "\n",
    "xs = []\n",
    "ys = []\n",
    "\n",
    "for idx, label in enumerate(labels):\n",
    "  for (dirpath, dirnames, filenames) in os.walk(os.path.join('files', label)):\n",
    "    for filename in filenames:\n",
    "      file_content = tf.io.read_file(os.path.join(dirpath, filename))\n",
    "      img_tensor = tf.io.decode_image(file_content, 1)\n",
    "      xs.append(img_tensor)\n",
    "      ys.append(idx)\n",
    "    print('{} -> finished'.format(dirpath))\n",
    "    break\n"
   ]
  },
  {
   "cell_type": "code",
   "execution_count": 60,
   "metadata": {},
   "outputs": [],
   "source": [
    "xs = tf.convert_to_tensor(xs)\n",
    "ys = tf.convert_to_tensor(ys)"
   ]
  },
  {
   "cell_type": "code",
   "execution_count": 61,
   "metadata": {},
   "outputs": [],
   "source": [
    "import matplotlib.pyplot as plt"
   ]
  },
  {
   "cell_type": "code",
   "execution_count": 64,
   "metadata": {},
   "outputs": [
    {
     "name": "stdout",
     "output_type": "stream",
     "text": [
      "(87541, 28, 28, 1)\n"
     ]
    },
    {
     "data": {
      "text/plain": [
       "<matplotlib.image.AxesImage at 0x2bc6d7cdd00>"
      ]
     },
     "execution_count": 64,
     "metadata": {},
     "output_type": "execute_result"
    },
    {
     "data": {
      "image/png": "[encoded data removed]",
      "text/plain": [
       "<Figure size 432x288 with 1 Axes>"
      ]
     },
     "metadata": {
      "needs_background": "light"
     },
     "output_type": "display_data"
    }
   ],
   "source": [
    "print(xs.shape)\n",
    "\n",
    "plt.imshow(xs[0], cmap='gray')"
   ]
  },
  {
   "cell_type": "code",
   "execution_count": null,
   "metadata": {},
   "outputs": [],
   "source": []
  }
 ],
 "metadata": {
  "interpreter": {
   "hash": "59248554391db2fec25b1033265425cf2b2787d2caceb5b7626dc13d5ce90b9d"
  },
  "kernelspec": {
   "display_name": "Python 3.9.9 64-bit ('venv': venv)",
   "language": "python",
   "name": "python3"
  },
  "language_info": {
   "codemirror_mode": {
    "name": "ipython",
    "version": 3
   },
   "file_extension": ".py",
   "mimetype": "text/x-python",
   "name": "python",
   "nbconvert_exporter": "python",
   "pygments_lexer": "ipython3",
   "version": "3.9.9"
  },
  "orig_nbformat": 4
 },
 "nbformat": 4,
 "nbformat_minor": 2
}
